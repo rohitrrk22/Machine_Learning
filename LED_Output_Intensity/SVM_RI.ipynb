{
 "cells": [
  {
   "cell_type": "code",
   "execution_count": 164,
   "metadata": {},
   "outputs": [],
   "source": [
    "import pandas as pd\n",
    "import numpy as np\n",
    "import seaborn as sns\n",
    "import matplotlib.pyplot as plt\n",
    "%matplotlib inline\n",
    "import warnings\n",
    "warnings.filterwarnings(\"ignore\")"
   ]
  },
  {
   "cell_type": "code",
   "execution_count": 165,
   "metadata": {},
   "outputs": [],
   "source": [
    "data = pd.read_csv('Data.csv')"
   ]
  },
  {
   "cell_type": "code",
   "execution_count": 166,
   "metadata": {},
   "outputs": [
    {
     "data": {
      "text/plain": [
       "(120, 6)"
      ]
     },
     "execution_count": 166,
     "metadata": {},
     "output_type": "execute_result"
    }
   ],
   "source": [
    "data.shape"
   ]
  },
  {
   "cell_type": "code",
   "execution_count": 167,
   "metadata": {},
   "outputs": [
    {
     "data": {
      "text/html": [
       "<div>\n",
       "<style scoped>\n",
       "    .dataframe tbody tr th:only-of-type {\n",
       "        vertical-align: middle;\n",
       "    }\n",
       "\n",
       "    .dataframe tbody tr th {\n",
       "        vertical-align: top;\n",
       "    }\n",
       "\n",
       "    .dataframe thead th {\n",
       "        text-align: right;\n",
       "    }\n",
       "</style>\n",
       "<table border=\"1\" class=\"dataframe\">\n",
       "  <thead>\n",
       "    <tr style=\"text-align: right;\">\n",
       "      <th></th>\n",
       "      <th>Sucrose concentration in %</th>\n",
       "      <th>RI</th>\n",
       "      <th>Fiber sensing region (cm)</th>\n",
       "      <th>Chitosan Wt(gm)</th>\n",
       "      <th>LED color</th>\n",
       "      <th>Output Intensity</th>\n",
       "    </tr>\n",
       "  </thead>\n",
       "  <tbody>\n",
       "    <tr>\n",
       "      <td>0</td>\n",
       "      <td>0</td>\n",
       "      <td>1.33</td>\n",
       "      <td>1.0</td>\n",
       "      <td>1</td>\n",
       "      <td>Red</td>\n",
       "      <td>147</td>\n",
       "    </tr>\n",
       "    <tr>\n",
       "      <td>1</td>\n",
       "      <td>5</td>\n",
       "      <td>1.34</td>\n",
       "      <td>1.0</td>\n",
       "      <td>1</td>\n",
       "      <td>Red</td>\n",
       "      <td>144</td>\n",
       "    </tr>\n",
       "    <tr>\n",
       "      <td>2</td>\n",
       "      <td>10</td>\n",
       "      <td>1.35</td>\n",
       "      <td>1.0</td>\n",
       "      <td>1</td>\n",
       "      <td>Red</td>\n",
       "      <td>140</td>\n",
       "    </tr>\n",
       "    <tr>\n",
       "      <td>3</td>\n",
       "      <td>15</td>\n",
       "      <td>1.36</td>\n",
       "      <td>1.0</td>\n",
       "      <td>1</td>\n",
       "      <td>Red</td>\n",
       "      <td>138</td>\n",
       "    </tr>\n",
       "    <tr>\n",
       "      <td>4</td>\n",
       "      <td>20</td>\n",
       "      <td>1.37</td>\n",
       "      <td>1.0</td>\n",
       "      <td>1</td>\n",
       "      <td>Red</td>\n",
       "      <td>134</td>\n",
       "    </tr>\n",
       "  </tbody>\n",
       "</table>\n",
       "</div>"
      ],
      "text/plain": [
       "   Sucrose concentration in %    RI  Fiber sensing region (cm)   \\\n",
       "0                           0  1.33                         1.0   \n",
       "1                           5  1.34                         1.0   \n",
       "2                          10  1.35                         1.0   \n",
       "3                          15  1.36                         1.0   \n",
       "4                          20  1.37                         1.0   \n",
       "\n",
       "   Chitosan Wt(gm) LED color  Output Intensity   \n",
       "0                1       Red                147  \n",
       "1                1       Red                144  \n",
       "2                1       Red                140  \n",
       "3                1       Red                138  \n",
       "4                1       Red                134  "
      ]
     },
     "execution_count": 167,
     "metadata": {},
     "output_type": "execute_result"
    }
   ],
   "source": [
    "data.head()"
   ]
  },
  {
   "cell_type": "code",
   "execution_count": 168,
   "metadata": {},
   "outputs": [
    {
     "name": "stdout",
     "output_type": "stream",
     "text": [
      "<class 'pandas.core.frame.DataFrame'>\n",
      "RangeIndex: 120 entries, 0 to 119\n",
      "Data columns (total 6 columns):\n",
      "Sucrose concentration in %    120 non-null int64\n",
      "RI                            120 non-null float64\n",
      "Fiber sensing region (cm)     120 non-null float64\n",
      "Chitosan Wt(gm)               120 non-null int64\n",
      "LED color                     120 non-null object\n",
      "Output Intensity              120 non-null int64\n",
      "dtypes: float64(2), int64(3), object(1)\n",
      "memory usage: 5.8+ KB\n"
     ]
    }
   ],
   "source": [
    "data.info()"
   ]
  },
  {
   "cell_type": "code",
   "execution_count": 169,
   "metadata": {},
   "outputs": [
    {
     "data": {
      "text/html": [
       "<div>\n",
       "<style scoped>\n",
       "    .dataframe tbody tr th:only-of-type {\n",
       "        vertical-align: middle;\n",
       "    }\n",
       "\n",
       "    .dataframe tbody tr th {\n",
       "        vertical-align: top;\n",
       "    }\n",
       "\n",
       "    .dataframe thead th {\n",
       "        text-align: right;\n",
       "    }\n",
       "</style>\n",
       "<table border=\"1\" class=\"dataframe\">\n",
       "  <thead>\n",
       "    <tr style=\"text-align: right;\">\n",
       "      <th></th>\n",
       "      <th>Sucrose concentration in %</th>\n",
       "      <th>RI</th>\n",
       "      <th>Fiber sensing region (cm)</th>\n",
       "      <th>Chitosan Wt(gm)</th>\n",
       "      <th>Output Intensity</th>\n",
       "    </tr>\n",
       "  </thead>\n",
       "  <tbody>\n",
       "    <tr>\n",
       "      <td>count</td>\n",
       "      <td>120.000000</td>\n",
       "      <td>120.000000</td>\n",
       "      <td>120.000000</td>\n",
       "      <td>120.000000</td>\n",
       "      <td>120.000000</td>\n",
       "    </tr>\n",
       "    <tr>\n",
       "      <td>mean</td>\n",
       "      <td>22.500000</td>\n",
       "      <td>1.375000</td>\n",
       "      <td>1.750000</td>\n",
       "      <td>1.500000</td>\n",
       "      <td>139.075000</td>\n",
       "    </tr>\n",
       "    <tr>\n",
       "      <td>std</td>\n",
       "      <td>14.421622</td>\n",
       "      <td>0.028843</td>\n",
       "      <td>0.753145</td>\n",
       "      <td>0.502096</td>\n",
       "      <td>13.205654</td>\n",
       "    </tr>\n",
       "    <tr>\n",
       "      <td>min</td>\n",
       "      <td>0.000000</td>\n",
       "      <td>1.330000</td>\n",
       "      <td>1.000000</td>\n",
       "      <td>1.000000</td>\n",
       "      <td>112.000000</td>\n",
       "    </tr>\n",
       "    <tr>\n",
       "      <td>25%</td>\n",
       "      <td>10.000000</td>\n",
       "      <td>1.350000</td>\n",
       "      <td>1.000000</td>\n",
       "      <td>1.000000</td>\n",
       "      <td>129.000000</td>\n",
       "    </tr>\n",
       "    <tr>\n",
       "      <td>50%</td>\n",
       "      <td>22.500000</td>\n",
       "      <td>1.375000</td>\n",
       "      <td>1.750000</td>\n",
       "      <td>1.500000</td>\n",
       "      <td>139.000000</td>\n",
       "    </tr>\n",
       "    <tr>\n",
       "      <td>75%</td>\n",
       "      <td>35.000000</td>\n",
       "      <td>1.400000</td>\n",
       "      <td>2.500000</td>\n",
       "      <td>2.000000</td>\n",
       "      <td>148.250000</td>\n",
       "    </tr>\n",
       "    <tr>\n",
       "      <td>max</td>\n",
       "      <td>45.000000</td>\n",
       "      <td>1.420000</td>\n",
       "      <td>2.500000</td>\n",
       "      <td>2.000000</td>\n",
       "      <td>172.000000</td>\n",
       "    </tr>\n",
       "  </tbody>\n",
       "</table>\n",
       "</div>"
      ],
      "text/plain": [
       "       Sucrose concentration in %          RI  Fiber sensing region (cm)   \\\n",
       "count                  120.000000  120.000000                  120.000000   \n",
       "mean                    22.500000    1.375000                    1.750000   \n",
       "std                     14.421622    0.028843                    0.753145   \n",
       "min                      0.000000    1.330000                    1.000000   \n",
       "25%                     10.000000    1.350000                    1.000000   \n",
       "50%                     22.500000    1.375000                    1.750000   \n",
       "75%                     35.000000    1.400000                    2.500000   \n",
       "max                     45.000000    1.420000                    2.500000   \n",
       "\n",
       "       Chitosan Wt(gm)  Output Intensity   \n",
       "count       120.000000         120.000000  \n",
       "mean          1.500000         139.075000  \n",
       "std           0.502096          13.205654  \n",
       "min           1.000000         112.000000  \n",
       "25%           1.000000         129.000000  \n",
       "50%           1.500000         139.000000  \n",
       "75%           2.000000         148.250000  \n",
       "max           2.000000         172.000000  "
      ]
     },
     "execution_count": 169,
     "metadata": {},
     "output_type": "execute_result"
    }
   ],
   "source": [
    "data.describe()"
   ]
  },
  {
   "cell_type": "code",
   "execution_count": 170,
   "metadata": {},
   "outputs": [],
   "source": [
    "# rename the columns\n",
    "data = data.rename(columns={'Sucrose concentration in %': 'Sucrose_Concentration','Fiber sensing region (cm) ': 'Fiber_Sensing_Region'\n",
    "                            ,'Chitosan Wt(gm)':'Chitosan_Weight','LED color':'LED_Color'\n",
    "                            ,'RI':'Refractive_Index','Output Intensity ':'Output_Intensity'})"
   ]
  },
  {
   "cell_type": "code",
   "execution_count": 171,
   "metadata": {},
   "outputs": [
    {
     "data": {
      "text/html": [
       "<div>\n",
       "<style scoped>\n",
       "    .dataframe tbody tr th:only-of-type {\n",
       "        vertical-align: middle;\n",
       "    }\n",
       "\n",
       "    .dataframe tbody tr th {\n",
       "        vertical-align: top;\n",
       "    }\n",
       "\n",
       "    .dataframe thead th {\n",
       "        text-align: right;\n",
       "    }\n",
       "</style>\n",
       "<table border=\"1\" class=\"dataframe\">\n",
       "  <thead>\n",
       "    <tr style=\"text-align: right;\">\n",
       "      <th></th>\n",
       "      <th>Sucrose_Concentration</th>\n",
       "      <th>Refractive_Index</th>\n",
       "      <th>Fiber_Sensing_Region</th>\n",
       "      <th>Chitosan_Weight</th>\n",
       "      <th>LED_Color</th>\n",
       "      <th>Output_Intensity</th>\n",
       "    </tr>\n",
       "  </thead>\n",
       "  <tbody>\n",
       "    <tr>\n",
       "      <td>0</td>\n",
       "      <td>0</td>\n",
       "      <td>1.33</td>\n",
       "      <td>1.0</td>\n",
       "      <td>1</td>\n",
       "      <td>Red</td>\n",
       "      <td>147</td>\n",
       "    </tr>\n",
       "    <tr>\n",
       "      <td>1</td>\n",
       "      <td>5</td>\n",
       "      <td>1.34</td>\n",
       "      <td>1.0</td>\n",
       "      <td>1</td>\n",
       "      <td>Red</td>\n",
       "      <td>144</td>\n",
       "    </tr>\n",
       "    <tr>\n",
       "      <td>2</td>\n",
       "      <td>10</td>\n",
       "      <td>1.35</td>\n",
       "      <td>1.0</td>\n",
       "      <td>1</td>\n",
       "      <td>Red</td>\n",
       "      <td>140</td>\n",
       "    </tr>\n",
       "    <tr>\n",
       "      <td>3</td>\n",
       "      <td>15</td>\n",
       "      <td>1.36</td>\n",
       "      <td>1.0</td>\n",
       "      <td>1</td>\n",
       "      <td>Red</td>\n",
       "      <td>138</td>\n",
       "    </tr>\n",
       "    <tr>\n",
       "      <td>4</td>\n",
       "      <td>20</td>\n",
       "      <td>1.37</td>\n",
       "      <td>1.0</td>\n",
       "      <td>1</td>\n",
       "      <td>Red</td>\n",
       "      <td>134</td>\n",
       "    </tr>\n",
       "  </tbody>\n",
       "</table>\n",
       "</div>"
      ],
      "text/plain": [
       "   Sucrose_Concentration  Refractive_Index  Fiber_Sensing_Region  \\\n",
       "0                      0              1.33                   1.0   \n",
       "1                      5              1.34                   1.0   \n",
       "2                     10              1.35                   1.0   \n",
       "3                     15              1.36                   1.0   \n",
       "4                     20              1.37                   1.0   \n",
       "\n",
       "   Chitosan_Weight LED_Color  Output_Intensity  \n",
       "0                1       Red               147  \n",
       "1                1       Red               144  \n",
       "2                1       Red               140  \n",
       "3                1       Red               138  \n",
       "4                1       Red               134  "
      ]
     },
     "execution_count": 171,
     "metadata": {},
     "output_type": "execute_result"
    }
   ],
   "source": [
    "data.head()"
   ]
  },
  {
   "cell_type": "code",
   "execution_count": 172,
   "metadata": {},
   "outputs": [
    {
     "data": {
      "text/plain": [
       "<matplotlib.axes._subplots.AxesSubplot at 0x16fc4ed0288>"
      ]
     },
     "execution_count": 172,
     "metadata": {},
     "output_type": "execute_result"
    },
    {
     "data": {
      "image/png": "[encoded data removed]",
      "text/plain": [
       "<Figure size 432x288 with 2 Axes>"
      ]
     },
     "metadata": {
      "needs_background": "light"
     },
     "output_type": "display_data"
    }
   ],
   "source": [
    "sns.heatmap(data.corr())"
   ]
  },
  {
   "cell_type": "code",
   "execution_count": 173,
   "metadata": {},
   "outputs": [
    {
     "data": {
      "image/png": "[encoded data removed]",
      "text/plain": [
       "<Figure size 444.875x360 with 1 Axes>"
      ]
     },
     "metadata": {},
     "output_type": "display_data"
    }
   ],
   "source": [
    "import seaborn as sns\n",
    "sns.set_style(style=\"darkgrid\")\n",
    "sns.relplot(x=\"Refractive_Index\", y=\"Output_Intensity\",hue=\"LED_Color\", data=data);"
   ]
  },
  {
   "cell_type": "code",
   "execution_count": 174,
   "metadata": {},
   "outputs": [
    {
     "data": {
      "image/png": "[encoded data removed]",
      "text/plain": [
       "<Figure size 720x720 with 4 Axes>"
      ]
     },
     "metadata": {},
     "output_type": "display_data"
    }
   ],
   "source": [
    "sns.relplot(x=\"Refractive_Index\", y=\"Output_Intensity\",col='Chitosan_Weight',row='Fiber_Sensing_Region', data=data);"
   ]
  },
  {
   "cell_type": "code",
   "execution_count": 175,
   "metadata": {},
   "outputs": [
    {
     "data": {
      "text/plain": [
       "Sucrose_Concentration    0\n",
       "Refractive_Index         0\n",
       "Fiber_Sensing_Region     0\n",
       "Chitosan_Weight          0\n",
       "LED_Color                0\n",
       "Output_Intensity         0\n",
       "dtype: int64"
      ]
     },
     "execution_count": 175,
     "metadata": {},
     "output_type": "execute_result"
    }
   ],
   "source": [
    "data.isna().sum()"
   ]
  },
  {
   "cell_type": "code",
   "execution_count": 176,
   "metadata": {},
   "outputs": [
    {
     "name": "stdout",
     "output_type": "stream",
     "text": [
      "LED_Color : 3\n"
     ]
    }
   ],
   "source": [
    "for col in data.select_dtypes(['object']).columns:\n",
    "    print(col,':',data[col].nunique())"
   ]
  },
  {
   "cell_type": "code",
   "execution_count": 177,
   "metadata": {},
   "outputs": [],
   "source": [
    "data = pd.get_dummies(data, columns=['LED_Color'])"
   ]
  },
  {
   "cell_type": "code",
   "execution_count": 178,
   "metadata": {},
   "outputs": [
    {
     "data": {
      "text/html": [
       "<div>\n",
       "<style scoped>\n",
       "    .dataframe tbody tr th:only-of-type {\n",
       "        vertical-align: middle;\n",
       "    }\n",
       "\n",
       "    .dataframe tbody tr th {\n",
       "        vertical-align: top;\n",
       "    }\n",
       "\n",
       "    .dataframe thead th {\n",
       "        text-align: right;\n",
       "    }\n",
       "</style>\n",
       "<table border=\"1\" class=\"dataframe\">\n",
       "  <thead>\n",
       "    <tr style=\"text-align: right;\">\n",
       "      <th></th>\n",
       "      <th>Sucrose_Concentration</th>\n",
       "      <th>Refractive_Index</th>\n",
       "      <th>Fiber_Sensing_Region</th>\n",
       "      <th>Chitosan_Weight</th>\n",
       "      <th>Output_Intensity</th>\n",
       "      <th>LED_Color_Blue</th>\n",
       "      <th>LED_Color_Orange</th>\n",
       "      <th>LED_Color_Red</th>\n",
       "    </tr>\n",
       "  </thead>\n",
       "  <tbody>\n",
       "    <tr>\n",
       "      <td>0</td>\n",
       "      <td>0</td>\n",
       "      <td>1.33</td>\n",
       "      <td>1.0</td>\n",
       "      <td>1</td>\n",
       "      <td>147</td>\n",
       "      <td>0</td>\n",
       "      <td>0</td>\n",
       "      <td>1</td>\n",
       "    </tr>\n",
       "    <tr>\n",
       "      <td>1</td>\n",
       "      <td>5</td>\n",
       "      <td>1.34</td>\n",
       "      <td>1.0</td>\n",
       "      <td>1</td>\n",
       "      <td>144</td>\n",
       "      <td>0</td>\n",
       "      <td>0</td>\n",
       "      <td>1</td>\n",
       "    </tr>\n",
       "    <tr>\n",
       "      <td>2</td>\n",
       "      <td>10</td>\n",
       "      <td>1.35</td>\n",
       "      <td>1.0</td>\n",
       "      <td>1</td>\n",
       "      <td>140</td>\n",
       "      <td>0</td>\n",
       "      <td>0</td>\n",
       "      <td>1</td>\n",
       "    </tr>\n",
       "    <tr>\n",
       "      <td>3</td>\n",
       "      <td>15</td>\n",
       "      <td>1.36</td>\n",
       "      <td>1.0</td>\n",
       "      <td>1</td>\n",
       "      <td>138</td>\n",
       "      <td>0</td>\n",
       "      <td>0</td>\n",
       "      <td>1</td>\n",
       "    </tr>\n",
       "    <tr>\n",
       "      <td>4</td>\n",
       "      <td>20</td>\n",
       "      <td>1.37</td>\n",
       "      <td>1.0</td>\n",
       "      <td>1</td>\n",
       "      <td>134</td>\n",
       "      <td>0</td>\n",
       "      <td>0</td>\n",
       "      <td>1</td>\n",
       "    </tr>\n",
       "  </tbody>\n",
       "</table>\n",
       "</div>"
      ],
      "text/plain": [
       "   Sucrose_Concentration  Refractive_Index  Fiber_Sensing_Region  \\\n",
       "0                      0              1.33                   1.0   \n",
       "1                      5              1.34                   1.0   \n",
       "2                     10              1.35                   1.0   \n",
       "3                     15              1.36                   1.0   \n",
       "4                     20              1.37                   1.0   \n",
       "\n",
       "   Chitosan_Weight  Output_Intensity  LED_Color_Blue  LED_Color_Orange  \\\n",
       "0                1               147               0                 0   \n",
       "1                1               144               0                 0   \n",
       "2                1               140               0                 0   \n",
       "3                1               138               0                 0   \n",
       "4                1               134               0                 0   \n",
       "\n",
       "   LED_Color_Red  \n",
       "0              1  \n",
       "1              1  \n",
       "2              1  \n",
       "3              1  \n",
       "4              1  "
      ]
     },
     "execution_count": 178,
     "metadata": {},
     "output_type": "execute_result"
    }
   ],
   "source": [
    "data.head()"
   ]
  },
  {
   "cell_type": "code",
   "execution_count": 179,
   "metadata": {},
   "outputs": [],
   "source": [
    "data.drop(['LED_Color_Orange'],axis=1,inplace=True)"
   ]
  },
  {
   "cell_type": "code",
   "execution_count": 180,
   "metadata": {},
   "outputs": [
    {
     "data": {
      "text/html": [
       "<div>\n",
       "<style scoped>\n",
       "    .dataframe tbody tr th:only-of-type {\n",
       "        vertical-align: middle;\n",
       "    }\n",
       "\n",
       "    .dataframe tbody tr th {\n",
       "        vertical-align: top;\n",
       "    }\n",
       "\n",
       "    .dataframe thead th {\n",
       "        text-align: right;\n",
       "    }\n",
       "</style>\n",
       "<table border=\"1\" class=\"dataframe\">\n",
       "  <thead>\n",
       "    <tr style=\"text-align: right;\">\n",
       "      <th></th>\n",
       "      <th>Sucrose_Concentration</th>\n",
       "      <th>Refractive_Index</th>\n",
       "      <th>Fiber_Sensing_Region</th>\n",
       "      <th>Chitosan_Weight</th>\n",
       "      <th>Output_Intensity</th>\n",
       "      <th>LED_Color_Blue</th>\n",
       "      <th>LED_Color_Red</th>\n",
       "    </tr>\n",
       "  </thead>\n",
       "  <tbody>\n",
       "    <tr>\n",
       "      <td>0</td>\n",
       "      <td>0</td>\n",
       "      <td>1.33</td>\n",
       "      <td>1.0</td>\n",
       "      <td>1</td>\n",
       "      <td>147</td>\n",
       "      <td>0</td>\n",
       "      <td>1</td>\n",
       "    </tr>\n",
       "    <tr>\n",
       "      <td>1</td>\n",
       "      <td>5</td>\n",
       "      <td>1.34</td>\n",
       "      <td>1.0</td>\n",
       "      <td>1</td>\n",
       "      <td>144</td>\n",
       "      <td>0</td>\n",
       "      <td>1</td>\n",
       "    </tr>\n",
       "    <tr>\n",
       "      <td>2</td>\n",
       "      <td>10</td>\n",
       "      <td>1.35</td>\n",
       "      <td>1.0</td>\n",
       "      <td>1</td>\n",
       "      <td>140</td>\n",
       "      <td>0</td>\n",
       "      <td>1</td>\n",
       "    </tr>\n",
       "    <tr>\n",
       "      <td>3</td>\n",
       "      <td>15</td>\n",
       "      <td>1.36</td>\n",
       "      <td>1.0</td>\n",
       "      <td>1</td>\n",
       "      <td>138</td>\n",
       "      <td>0</td>\n",
       "      <td>1</td>\n",
       "    </tr>\n",
       "    <tr>\n",
       "      <td>4</td>\n",
       "      <td>20</td>\n",
       "      <td>1.37</td>\n",
       "      <td>1.0</td>\n",
       "      <td>1</td>\n",
       "      <td>134</td>\n",
       "      <td>0</td>\n",
       "      <td>1</td>\n",
       "    </tr>\n",
       "  </tbody>\n",
       "</table>\n",
       "</div>"
      ],
      "text/plain": [
       "   Sucrose_Concentration  Refractive_Index  Fiber_Sensing_Region  \\\n",
       "0                      0              1.33                   1.0   \n",
       "1                      5              1.34                   1.0   \n",
       "2                     10              1.35                   1.0   \n",
       "3                     15              1.36                   1.0   \n",
       "4                     20              1.37                   1.0   \n",
       "\n",
       "   Chitosan_Weight  Output_Intensity  LED_Color_Blue  LED_Color_Red  \n",
       "0                1               147               0              1  \n",
       "1                1               144               0              1  \n",
       "2                1               140               0              1  \n",
       "3                1               138               0              1  \n",
       "4                1               134               0              1  "
      ]
     },
     "execution_count": 180,
     "metadata": {},
     "output_type": "execute_result"
    }
   ],
   "source": [
    "data.head()"
   ]
  },
  {
   "cell_type": "code",
   "execution_count": 181,
   "metadata": {},
   "outputs": [],
   "source": [
    "# sns.heatmap(data.corr())"
   ]
  },
  {
   "cell_type": "code",
   "execution_count": 182,
   "metadata": {},
   "outputs": [],
   "source": [
    "from sklearn.model_selection import train_test_split"
   ]
  },
  {
   "cell_type": "code",
   "execution_count": 183,
   "metadata": {},
   "outputs": [],
   "source": [
    "train,test=train_test_split(data,train_size=0.80,random_state=42)"
   ]
  },
  {
   "cell_type": "code",
   "execution_count": 184,
   "metadata": {},
   "outputs": [
    {
     "data": {
      "text/plain": [
       "((96, 7), (24, 7))"
      ]
     },
     "execution_count": 184,
     "metadata": {},
     "output_type": "execute_result"
    }
   ],
   "source": [
    "train.shape,test.shape"
   ]
  },
  {
   "cell_type": "code",
   "execution_count": 185,
   "metadata": {},
   "outputs": [],
   "source": [
    "train.reset_index(inplace=True)\n",
    "test.reset_index(inplace=True)"
   ]
  },
  {
   "cell_type": "code",
   "execution_count": 186,
   "metadata": {},
   "outputs": [],
   "source": [
    "del train['index']\n",
    "del test['index']"
   ]
  },
  {
   "cell_type": "code",
   "execution_count": 187,
   "metadata": {},
   "outputs": [
    {
     "data": {
      "text/html": [
       "<div>\n",
       "<style scoped>\n",
       "    .dataframe tbody tr th:only-of-type {\n",
       "        vertical-align: middle;\n",
       "    }\n",
       "\n",
       "    .dataframe tbody tr th {\n",
       "        vertical-align: top;\n",
       "    }\n",
       "\n",
       "    .dataframe thead th {\n",
       "        text-align: right;\n",
       "    }\n",
       "</style>\n",
       "<table border=\"1\" class=\"dataframe\">\n",
       "  <thead>\n",
       "    <tr style=\"text-align: right;\">\n",
       "      <th></th>\n",
       "      <th>Sucrose_Concentration</th>\n",
       "      <th>Refractive_Index</th>\n",
       "      <th>Fiber_Sensing_Region</th>\n",
       "      <th>Chitosan_Weight</th>\n",
       "      <th>Output_Intensity</th>\n",
       "      <th>LED_Color_Blue</th>\n",
       "      <th>LED_Color_Red</th>\n",
       "    </tr>\n",
       "  </thead>\n",
       "  <tbody>\n",
       "    <tr>\n",
       "      <td>0</td>\n",
       "      <td>10</td>\n",
       "      <td>1.35</td>\n",
       "      <td>1.0</td>\n",
       "      <td>2</td>\n",
       "      <td>149</td>\n",
       "      <td>0</td>\n",
       "      <td>0</td>\n",
       "    </tr>\n",
       "    <tr>\n",
       "      <td>1</td>\n",
       "      <td>10</td>\n",
       "      <td>1.35</td>\n",
       "      <td>1.0</td>\n",
       "      <td>1</td>\n",
       "      <td>145</td>\n",
       "      <td>0</td>\n",
       "      <td>0</td>\n",
       "    </tr>\n",
       "    <tr>\n",
       "      <td>2</td>\n",
       "      <td>25</td>\n",
       "      <td>1.38</td>\n",
       "      <td>1.0</td>\n",
       "      <td>1</td>\n",
       "      <td>139</td>\n",
       "      <td>0</td>\n",
       "      <td>0</td>\n",
       "    </tr>\n",
       "    <tr>\n",
       "      <td>3</td>\n",
       "      <td>20</td>\n",
       "      <td>1.37</td>\n",
       "      <td>2.5</td>\n",
       "      <td>2</td>\n",
       "      <td>133</td>\n",
       "      <td>1</td>\n",
       "      <td>0</td>\n",
       "    </tr>\n",
       "    <tr>\n",
       "      <td>4</td>\n",
       "      <td>30</td>\n",
       "      <td>1.39</td>\n",
       "      <td>2.5</td>\n",
       "      <td>1</td>\n",
       "      <td>126</td>\n",
       "      <td>0</td>\n",
       "      <td>0</td>\n",
       "    </tr>\n",
       "  </tbody>\n",
       "</table>\n",
       "</div>"
      ],
      "text/plain": [
       "   Sucrose_Concentration  Refractive_Index  Fiber_Sensing_Region  \\\n",
       "0                     10              1.35                   1.0   \n",
       "1                     10              1.35                   1.0   \n",
       "2                     25              1.38                   1.0   \n",
       "3                     20              1.37                   2.5   \n",
       "4                     30              1.39                   2.5   \n",
       "\n",
       "   Chitosan_Weight  Output_Intensity  LED_Color_Blue  LED_Color_Red  \n",
       "0                2               149               0              0  \n",
       "1                1               145               0              0  \n",
       "2                1               139               0              0  \n",
       "3                2               133               1              0  \n",
       "4                1               126               0              0  "
      ]
     },
     "execution_count": 187,
     "metadata": {},
     "output_type": "execute_result"
    }
   ],
   "source": [
    "train.head()"
   ]
  },
  {
   "cell_type": "code",
   "execution_count": 188,
   "metadata": {},
   "outputs": [
    {
     "data": {
      "text/html": [
       "<div>\n",
       "<style scoped>\n",
       "    .dataframe tbody tr th:only-of-type {\n",
       "        vertical-align: middle;\n",
       "    }\n",
       "\n",
       "    .dataframe tbody tr th {\n",
       "        vertical-align: top;\n",
       "    }\n",
       "\n",
       "    .dataframe thead th {\n",
       "        text-align: right;\n",
       "    }\n",
       "</style>\n",
       "<table border=\"1\" class=\"dataframe\">\n",
       "  <thead>\n",
       "    <tr style=\"text-align: right;\">\n",
       "      <th></th>\n",
       "      <th>Sucrose_Concentration</th>\n",
       "      <th>Refractive_Index</th>\n",
       "      <th>Fiber_Sensing_Region</th>\n",
       "      <th>Chitosan_Weight</th>\n",
       "      <th>Output_Intensity</th>\n",
       "      <th>LED_Color_Blue</th>\n",
       "      <th>LED_Color_Red</th>\n",
       "    </tr>\n",
       "  </thead>\n",
       "  <tbody>\n",
       "    <tr>\n",
       "      <td>0</td>\n",
       "      <td>20</td>\n",
       "      <td>1.37</td>\n",
       "      <td>1.0</td>\n",
       "      <td>2</td>\n",
       "      <td>142</td>\n",
       "      <td>0</td>\n",
       "      <td>0</td>\n",
       "    </tr>\n",
       "    <tr>\n",
       "      <td>1</td>\n",
       "      <td>35</td>\n",
       "      <td>1.40</td>\n",
       "      <td>1.0</td>\n",
       "      <td>2</td>\n",
       "      <td>133</td>\n",
       "      <td>0</td>\n",
       "      <td>0</td>\n",
       "    </tr>\n",
       "    <tr>\n",
       "      <td>2</td>\n",
       "      <td>20</td>\n",
       "      <td>1.37</td>\n",
       "      <td>1.0</td>\n",
       "      <td>1</td>\n",
       "      <td>134</td>\n",
       "      <td>0</td>\n",
       "      <td>1</td>\n",
       "    </tr>\n",
       "    <tr>\n",
       "      <td>3</td>\n",
       "      <td>25</td>\n",
       "      <td>1.38</td>\n",
       "      <td>1.0</td>\n",
       "      <td>2</td>\n",
       "      <td>143</td>\n",
       "      <td>1</td>\n",
       "      <td>0</td>\n",
       "    </tr>\n",
       "    <tr>\n",
       "      <td>4</td>\n",
       "      <td>30</td>\n",
       "      <td>1.39</td>\n",
       "      <td>1.0</td>\n",
       "      <td>1</td>\n",
       "      <td>141</td>\n",
       "      <td>1</td>\n",
       "      <td>0</td>\n",
       "    </tr>\n",
       "  </tbody>\n",
       "</table>\n",
       "</div>"
      ],
      "text/plain": [
       "   Sucrose_Concentration  Refractive_Index  Fiber_Sensing_Region  \\\n",
       "0                     20              1.37                   1.0   \n",
       "1                     35              1.40                   1.0   \n",
       "2                     20              1.37                   1.0   \n",
       "3                     25              1.38                   1.0   \n",
       "4                     30              1.39                   1.0   \n",
       "\n",
       "   Chitosan_Weight  Output_Intensity  LED_Color_Blue  LED_Color_Red  \n",
       "0                2               142               0              0  \n",
       "1                2               133               0              0  \n",
       "2                1               134               0              1  \n",
       "3                2               143               1              0  \n",
       "4                1               141               1              0  "
      ]
     },
     "execution_count": 188,
     "metadata": {},
     "output_type": "execute_result"
    }
   ],
   "source": [
    "test.head()"
   ]
  },
  {
   "cell_type": "code",
   "execution_count": 189,
   "metadata": {},
   "outputs": [],
   "source": [
    "x_train=train.drop('Output_Intensity',axis=1)\n",
    "y_train=train['Output_Intensity']\n",
    "x_test=test.drop('Output_Intensity',axis=1)\n",
    "y_test=test['Output_Intensity']"
   ]
  },
  {
   "cell_type": "code",
   "execution_count": 190,
   "metadata": {},
   "outputs": [],
   "source": [
    "x_train_svm = x_train.copy()\n",
    "x_test_svm = x_test.copy()"
   ]
  },
  {
   "cell_type": "code",
   "execution_count": 191,
   "metadata": {},
   "outputs": [],
   "source": [
    "from sklearn.preprocessing import StandardScaler\n",
    "scaler = StandardScaler()\n",
    "scaler.fit(x_train_svm)\n",
    "X_train = scaler.transform(x_train_svm)\n",
    "X_test = scaler.transform(x_test_svm)"
   ]
  },
  {
   "cell_type": "markdown",
   "metadata": {},
   "source": [
    "## Model Building"
   ]
  },
  {
   "cell_type": "code",
   "execution_count": 192,
   "metadata": {},
   "outputs": [],
   "source": [
    "from sklearn import svm\n",
    "from sklearn.metrics import mean_absolute_error,mean_squared_error,r2_score"
   ]
  },
  {
   "cell_type": "code",
   "execution_count": 193,
   "metadata": {},
   "outputs": [],
   "source": [
    "svr = svm.SVR(kernel='rbf',C=57,gamma='auto')"
   ]
  },
  {
   "cell_type": "code",
   "execution_count": 194,
   "metadata": {},
   "outputs": [
    {
     "data": {
      "text/plain": [
       "SVR(C=57, gamma='auto')"
      ]
     },
     "execution_count": 194,
     "metadata": {},
     "output_type": "execute_result"
    }
   ],
   "source": [
    "svr.fit(X_train,y_train)"
   ]
  },
  {
   "cell_type": "code",
   "execution_count": 195,
   "metadata": {},
   "outputs": [],
   "source": [
    "y_pred=svr.predict(X_test)"
   ]
  },
  {
   "cell_type": "code",
   "execution_count": 196,
   "metadata": {},
   "outputs": [
    {
     "data": {
      "text/plain": [
       "0.6825908951009337"
      ]
     },
     "execution_count": 196,
     "metadata": {},
     "output_type": "execute_result"
    }
   ],
   "source": [
    "mean_absolute_error(y_test,y_pred)"
   ]
  },
  {
   "cell_type": "code",
   "execution_count": 197,
   "metadata": {},
   "outputs": [
    {
     "data": {
      "text/plain": [
       "0.8883497964102739"
      ]
     },
     "execution_count": 197,
     "metadata": {},
     "output_type": "execute_result"
    }
   ],
   "source": [
    "mean_squared_error(y_test,y_pred,squared=False) #RMSE"
   ]
  },
  {
   "cell_type": "code",
   "execution_count": 198,
   "metadata": {},
   "outputs": [
    {
     "data": {
      "text/plain": [
       "0.9924900996594876"
      ]
     },
     "execution_count": 198,
     "metadata": {},
     "output_type": "execute_result"
    }
   ],
   "source": [
    "r2_score(y_test,y_pred)"
   ]
  },
  {
   "cell_type": "code",
   "execution_count": 199,
   "metadata": {},
   "outputs": [
    {
     "data": {
      "image/png": "[encoded data removed]",
      "text/plain": [
       "<Figure size 360x360 with 1 Axes>"
      ]
     },
     "metadata": {},
     "output_type": "display_data"
    }
   ],
   "source": [
    "plt.figure(figsize=(5,5))\n",
    "plt.scatter(y_test, y_pred, c='crimson')\n",
    "\n",
    "p1 = max(max(y_pred), max(y_test))\n",
    "p2 = min(min(y_pred), min(y_test))\n",
    "plt.plot([p1, p2], [p1, p2], 'b-')\n",
    "plt.xlabel('True Values', fontsize=15)\n",
    "plt.ylabel('Predictions', fontsize=15)\n",
    "plt.axis('equal')\n",
    "plt.show()"
   ]
  },
  {
   "cell_type": "code",
   "execution_count": 200,
   "metadata": {},
   "outputs": [],
   "source": [
    "y_pred_trn=svr.predict(X_train)"
   ]
  },
  {
   "cell_type": "code",
   "execution_count": 201,
   "metadata": {},
   "outputs": [],
   "source": [
    "y_pred_trn = pd.DataFrame(y_pred_trn)"
   ]
  },
  {
   "cell_type": "code",
   "execution_count": 202,
   "metadata": {},
   "outputs": [
    {
     "data": {
      "text/plain": [
       "0.41657792029521873"
      ]
     },
     "execution_count": 202,
     "metadata": {},
     "output_type": "execute_result"
    }
   ],
   "source": [
    "mean_absolute_error(y_train,y_pred_trn)"
   ]
  },
  {
   "cell_type": "code",
   "execution_count": 203,
   "metadata": {},
   "outputs": [
    {
     "data": {
      "text/plain": [
       "0.6507952122312313"
      ]
     },
     "execution_count": 203,
     "metadata": {},
     "output_type": "execute_result"
    }
   ],
   "source": [
    "mean_squared_error(y_train,y_pred_trn,squared=False)"
   ]
  },
  {
   "cell_type": "code",
   "execution_count": 204,
   "metadata": {},
   "outputs": [
    {
     "data": {
      "text/plain": [
       "0.9977478944096513"
      ]
     },
     "execution_count": 204,
     "metadata": {},
     "output_type": "execute_result"
    }
   ],
   "source": [
    "r2_score(y_train,y_pred_trn)"
   ]
  },
  {
   "cell_type": "code",
   "execution_count": 205,
   "metadata": {},
   "outputs": [
    {
     "data": {
      "image/png": "[encoded data removed]",
      "text/plain": [
       "<Figure size 360x360 with 1 Axes>"
      ]
     },
     "metadata": {},
     "output_type": "display_data"
    }
   ],
   "source": [
    "plt.figure(figsize=(5,5))\n",
    "plt.scatter(y_train, y_pred_trn, c='crimson')\n",
    "p1 = max(max(y_pred_trn), max(y_train))\n",
    "p2 = min(min(y_pred_trn), min(y_train))\n",
    "plt.plot([p1, p2], [p1, p2], 'b-')\n",
    "plt.xlabel('True Values', fontsize=15)\n",
    "plt.ylabel('Predictions', fontsize=15)\n",
    "plt.axis('equal')\n",
    "plt.xlim([100,180]) \n",
    "plt.ylim([100,180]) \n",
    "plt.show()"
   ]
  },
  {
   "cell_type": "markdown",
   "metadata": {},
   "source": [
    "## Feature Importance List"
   ]
  },
  {
   "cell_type": "code",
   "execution_count": 212,
   "metadata": {},
   "outputs": [
    {
     "name": "stdout",
     "output_type": "stream",
     "text": [
      "Feature ranking:\n",
      "1. feature Sucrose_Concentration (0.434491)\n",
      "2. feature Refractive_Index (0.413371)\n",
      "3. feature Fiber_Sensing_Region (0.063496)\n",
      "4. feature Chitosan_Weight (0.044486)\n",
      "5. feature LED_Color_Blue (0.026989)\n",
      "6. feature LED_Color_Red (0.017167)\n"
     ]
    },
    {
     "data": {
      "image/png": "[encoded data removed]",
      "text/plain": [
       "<Figure size 1080x1080 with 1 Axes>"
      ]
     },
     "metadata": {},
     "output_type": "display_data"
    }
   ],
   "source": [
    "from sklearn.ensemble import RandomForestRegressor\n",
    "from sklearn.model_selection import RandomizedSearchCV\n",
    "\n",
    "\n",
    "param_dist = {\"n_estimators\":[100,200,300,350],\n",
    "             \"max_features\": [1,2,3,4,5],\n",
    "             \"bootstrap\": [True, False],\n",
    "             \"max_depth\":[None,5,10,15,20,30,50],\n",
    "             \"min_samples_leaf\":[1,5,10,15,20,50],\n",
    "             \"min_samples_split\":[2,5,10,15,20,50]}\n",
    "\n",
    "reg_rf = RandomForestRegressor()\n",
    "\n",
    "random_search = RandomizedSearchCV(reg_rf,param_distributions=param_dist,n_iter=10,scoring='neg_mean_absolute_error'\n",
    "                                   ,cv=10, n_jobs=-1,verbose=False)\n",
    "\n",
    "random_search.fit(X_train,y_train)\n",
    "\n",
    "rf=random_search.best_estimator_\n",
    "\n",
    "rf.fit(X_train,y_train)\n",
    "\n",
    "importances = rf.feature_importances_\n",
    "std = np.std([tree.feature_importances_ for tree in rf.estimators_],\n",
    "             axis=0)\n",
    "indices = np.argsort(importances)[::-1]\n",
    "\n",
    "# Print the feature ranking\n",
    "print(\"Feature ranking:\")\n",
    "\n",
    "for f in range(x_train.shape[1]):\n",
    "    print(\"%d. feature %s (%f)\" % (f + 1, list(x_train.columns)[f], importances[indices[f]]))\n",
    "\n",
    "# Plot the feature importances of the forest\n",
    "plt.figure(figsize =(15, 15))\n",
    "plt.title(\"Feature importances\")\n",
    "plt.bar(range(x_train.shape[1]), importances[indices],\n",
    "       color=\"r\", yerr=std[indices], align=\"center\")\n",
    "plt.xticks(range(x_train.shape[1]), labels=list(x_train.columns))\n",
    "plt.xlim([-1, x_train.shape[1]])\n",
    "\n",
    "plt.show()"
   ]
  },
  {
   "cell_type": "code",
   "execution_count": 213,
   "metadata": {},
   "outputs": [
    {
     "data": {
      "text/plain": [
       "142"
      ]
     },
     "execution_count": 213,
     "metadata": {},
     "output_type": "execute_result"
    }
   ],
   "source": [
    "y_test.iloc[0]"
   ]
  },
  {
   "cell_type": "code",
   "execution_count": 214,
   "metadata": {},
   "outputs": [],
   "source": [
    "y_pred = pd.DataFrame(y_pred)"
   ]
  },
  {
   "cell_type": "code",
   "execution_count": 215,
   "metadata": {},
   "outputs": [
    {
     "data": {
      "text/html": [
       "<div>\n",
       "<style scoped>\n",
       "    .dataframe tbody tr th:only-of-type {\n",
       "        vertical-align: middle;\n",
       "    }\n",
       "\n",
       "    .dataframe tbody tr th {\n",
       "        vertical-align: top;\n",
       "    }\n",
       "\n",
       "    .dataframe thead th {\n",
       "        text-align: right;\n",
       "    }\n",
       "</style>\n",
       "<table border=\"1\" class=\"dataframe\">\n",
       "  <thead>\n",
       "    <tr style=\"text-align: right;\">\n",
       "      <th></th>\n",
       "      <th>0</th>\n",
       "    </tr>\n",
       "  </thead>\n",
       "  <tbody>\n",
       "    <tr>\n",
       "      <td>0</td>\n",
       "      <td>141.951881</td>\n",
       "    </tr>\n",
       "    <tr>\n",
       "      <td>1</td>\n",
       "      <td>132.630361</td>\n",
       "    </tr>\n",
       "    <tr>\n",
       "      <td>2</td>\n",
       "      <td>133.954328</td>\n",
       "    </tr>\n",
       "    <tr>\n",
       "      <td>3</td>\n",
       "      <td>143.496077</td>\n",
       "    </tr>\n",
       "    <tr>\n",
       "      <td>4</td>\n",
       "      <td>141.570407</td>\n",
       "    </tr>\n",
       "  </tbody>\n",
       "</table>\n",
       "</div>"
      ],
      "text/plain": [
       "            0\n",
       "0  141.951881\n",
       "1  132.630361\n",
       "2  133.954328\n",
       "3  143.496077\n",
       "4  141.570407"
      ]
     },
     "execution_count": 215,
     "metadata": {},
     "output_type": "execute_result"
    }
   ],
   "source": [
    "y_pred.head()"
   ]
  },
  {
   "cell_type": "code",
   "execution_count": 216,
   "metadata": {},
   "outputs": [
    {
     "data": {
      "text/plain": [
       "0    142\n",
       "1    133\n",
       "2    134\n",
       "3    143\n",
       "4    141\n",
       "Name: Output_Intensity, dtype: int64"
      ]
     },
     "execution_count": 216,
     "metadata": {},
     "output_type": "execute_result"
    }
   ],
   "source": [
    "y_test.head()"
   ]
  },
  {
   "cell_type": "code",
   "execution_count": 217,
   "metadata": {},
   "outputs": [],
   "source": [
    "X_train =scaler.inverse_transform(X_train)\n",
    "X_test = scaler.inverse_transform(X_test)"
   ]
  },
  {
   "cell_type": "code",
   "execution_count": 218,
   "metadata": {},
   "outputs": [],
   "source": [
    "X_train = pd.DataFrame(X_train,columns=['Sucrose_Concentration', 'Refractive_Index', 'Fiber_Sensing_Region',\n",
    "       'Chitosan_Weight', 'LED_Color_Blue', 'LED_Color_Red'])\n",
    "\n",
    "X_test = pd.DataFrame(X_test,columns=['Sucrose_Concentration', 'Refractive_Index', 'Fiber_Sensing_Region',\n",
    "       'Chitosan_Weight', 'LED_Color_Blue', 'LED_Color_Red'])"
   ]
  },
  {
   "cell_type": "code",
   "execution_count": 219,
   "metadata": {},
   "outputs": [
    {
     "data": {
      "text/html": [
       "<div>\n",
       "<style scoped>\n",
       "    .dataframe tbody tr th:only-of-type {\n",
       "        vertical-align: middle;\n",
       "    }\n",
       "\n",
       "    .dataframe tbody tr th {\n",
       "        vertical-align: top;\n",
       "    }\n",
       "\n",
       "    .dataframe thead th {\n",
       "        text-align: right;\n",
       "    }\n",
       "</style>\n",
       "<table border=\"1\" class=\"dataframe\">\n",
       "  <thead>\n",
       "    <tr style=\"text-align: right;\">\n",
       "      <th></th>\n",
       "      <th>Sucrose_Concentration</th>\n",
       "      <th>Refractive_Index</th>\n",
       "      <th>Fiber_Sensing_Region</th>\n",
       "      <th>Chitosan_Weight</th>\n",
       "      <th>LED_Color_Blue</th>\n",
       "      <th>LED_Color_Red</th>\n",
       "    </tr>\n",
       "  </thead>\n",
       "  <tbody>\n",
       "    <tr>\n",
       "      <td>0</td>\n",
       "      <td>10.0</td>\n",
       "      <td>1.35</td>\n",
       "      <td>1.0</td>\n",
       "      <td>2.0</td>\n",
       "      <td>0.0</td>\n",
       "      <td>0.0</td>\n",
       "    </tr>\n",
       "    <tr>\n",
       "      <td>1</td>\n",
       "      <td>10.0</td>\n",
       "      <td>1.35</td>\n",
       "      <td>1.0</td>\n",
       "      <td>1.0</td>\n",
       "      <td>0.0</td>\n",
       "      <td>0.0</td>\n",
       "    </tr>\n",
       "    <tr>\n",
       "      <td>2</td>\n",
       "      <td>25.0</td>\n",
       "      <td>1.38</td>\n",
       "      <td>1.0</td>\n",
       "      <td>1.0</td>\n",
       "      <td>0.0</td>\n",
       "      <td>0.0</td>\n",
       "    </tr>\n",
       "    <tr>\n",
       "      <td>3</td>\n",
       "      <td>20.0</td>\n",
       "      <td>1.37</td>\n",
       "      <td>2.5</td>\n",
       "      <td>2.0</td>\n",
       "      <td>1.0</td>\n",
       "      <td>0.0</td>\n",
       "    </tr>\n",
       "    <tr>\n",
       "      <td>4</td>\n",
       "      <td>30.0</td>\n",
       "      <td>1.39</td>\n",
       "      <td>2.5</td>\n",
       "      <td>1.0</td>\n",
       "      <td>0.0</td>\n",
       "      <td>0.0</td>\n",
       "    </tr>\n",
       "  </tbody>\n",
       "</table>\n",
       "</div>"
      ],
      "text/plain": [
       "   Sucrose_Concentration  Refractive_Index  Fiber_Sensing_Region  \\\n",
       "0                   10.0              1.35                   1.0   \n",
       "1                   10.0              1.35                   1.0   \n",
       "2                   25.0              1.38                   1.0   \n",
       "3                   20.0              1.37                   2.5   \n",
       "4                   30.0              1.39                   2.5   \n",
       "\n",
       "   Chitosan_Weight  LED_Color_Blue  LED_Color_Red  \n",
       "0              2.0             0.0            0.0  \n",
       "1              1.0             0.0            0.0  \n",
       "2              1.0             0.0            0.0  \n",
       "3              2.0             1.0            0.0  \n",
       "4              1.0             0.0            0.0  "
      ]
     },
     "execution_count": 219,
     "metadata": {},
     "output_type": "execute_result"
    }
   ],
   "source": [
    "X_train.head()"
   ]
  },
  {
   "cell_type": "code",
   "execution_count": 220,
   "metadata": {},
   "outputs": [],
   "source": [
    "# create a list of our conditions\n",
    "conditions = [\n",
    "    (X_train['LED_Color_Red']==0.0) & (X_train['LED_Color_Blue']==0.0),\n",
    "    (X_train['LED_Color_Red']==0.0) & (X_train['LED_Color_Blue']==1.0),\n",
    "    (X_train['LED_Color_Red']==1.0) & (X_train['LED_Color_Blue']==0.0)\n",
    "    ]\n",
    "\n",
    "# create a list of the values we want to assign for each condition\n",
    "values = ['Orange', 'Blue', 'Red']\n",
    "\n",
    "# create a new column and use np.select to assign values to it using our lists as arguments\n",
    "X_train['LED_Color'] = np.select(conditions, values)\n",
    "\n"
   ]
  },
  {
   "cell_type": "code",
   "execution_count": 221,
   "metadata": {},
   "outputs": [
    {
     "data": {
      "text/html": [
       "<div>\n",
       "<style scoped>\n",
       "    .dataframe tbody tr th:only-of-type {\n",
       "        vertical-align: middle;\n",
       "    }\n",
       "\n",
       "    .dataframe tbody tr th {\n",
       "        vertical-align: top;\n",
       "    }\n",
       "\n",
       "    .dataframe thead th {\n",
       "        text-align: right;\n",
       "    }\n",
       "</style>\n",
       "<table border=\"1\" class=\"dataframe\">\n",
       "  <thead>\n",
       "    <tr style=\"text-align: right;\">\n",
       "      <th></th>\n",
       "      <th>Sucrose_Concentration</th>\n",
       "      <th>Refractive_Index</th>\n",
       "      <th>Fiber_Sensing_Region</th>\n",
       "      <th>Chitosan_Weight</th>\n",
       "      <th>LED_Color_Blue</th>\n",
       "      <th>LED_Color_Red</th>\n",
       "      <th>LED_Color</th>\n",
       "    </tr>\n",
       "  </thead>\n",
       "  <tbody>\n",
       "    <tr>\n",
       "      <td>0</td>\n",
       "      <td>10.0</td>\n",
       "      <td>1.35</td>\n",
       "      <td>1.0</td>\n",
       "      <td>2.0</td>\n",
       "      <td>0.0</td>\n",
       "      <td>0.0</td>\n",
       "      <td>Orange</td>\n",
       "    </tr>\n",
       "    <tr>\n",
       "      <td>1</td>\n",
       "      <td>10.0</td>\n",
       "      <td>1.35</td>\n",
       "      <td>1.0</td>\n",
       "      <td>1.0</td>\n",
       "      <td>0.0</td>\n",
       "      <td>0.0</td>\n",
       "      <td>Orange</td>\n",
       "    </tr>\n",
       "    <tr>\n",
       "      <td>2</td>\n",
       "      <td>25.0</td>\n",
       "      <td>1.38</td>\n",
       "      <td>1.0</td>\n",
       "      <td>1.0</td>\n",
       "      <td>0.0</td>\n",
       "      <td>0.0</td>\n",
       "      <td>Orange</td>\n",
       "    </tr>\n",
       "    <tr>\n",
       "      <td>3</td>\n",
       "      <td>20.0</td>\n",
       "      <td>1.37</td>\n",
       "      <td>2.5</td>\n",
       "      <td>2.0</td>\n",
       "      <td>1.0</td>\n",
       "      <td>0.0</td>\n",
       "      <td>Blue</td>\n",
       "    </tr>\n",
       "    <tr>\n",
       "      <td>4</td>\n",
       "      <td>30.0</td>\n",
       "      <td>1.39</td>\n",
       "      <td>2.5</td>\n",
       "      <td>1.0</td>\n",
       "      <td>0.0</td>\n",
       "      <td>0.0</td>\n",
       "      <td>Orange</td>\n",
       "    </tr>\n",
       "  </tbody>\n",
       "</table>\n",
       "</div>"
      ],
      "text/plain": [
       "   Sucrose_Concentration  Refractive_Index  Fiber_Sensing_Region  \\\n",
       "0                   10.0              1.35                   1.0   \n",
       "1                   10.0              1.35                   1.0   \n",
       "2                   25.0              1.38                   1.0   \n",
       "3                   20.0              1.37                   2.5   \n",
       "4                   30.0              1.39                   2.5   \n",
       "\n",
       "   Chitosan_Weight  LED_Color_Blue  LED_Color_Red LED_Color  \n",
       "0              2.0             0.0            0.0    Orange  \n",
       "1              1.0             0.0            0.0    Orange  \n",
       "2              1.0             0.0            0.0    Orange  \n",
       "3              2.0             1.0            0.0      Blue  \n",
       "4              1.0             0.0            0.0    Orange  "
      ]
     },
     "execution_count": 221,
     "metadata": {},
     "output_type": "execute_result"
    }
   ],
   "source": [
    "X_train.head()"
   ]
  },
  {
   "cell_type": "code",
   "execution_count": 222,
   "metadata": {},
   "outputs": [],
   "source": [
    "# create a list of our conditions\n",
    "conditions = [\n",
    "    (X_test['LED_Color_Red']==0.0) & (X_test['LED_Color_Blue']==0.0),\n",
    "    (X_test['LED_Color_Red']==0.0) & (X_test['LED_Color_Blue']==1.0),\n",
    "    (X_test['LED_Color_Red']==1.0) & (X_test['LED_Color_Blue']==0.0)\n",
    "    ]\n",
    "\n",
    "# create a list of the values we want to assign for each condition\n",
    "values = ['Orange', 'Blue', 'Red']\n",
    "\n",
    "# create a new column and use np.select to assign values to it using our lists as arguments\n",
    "X_test['LED_Color'] = np.select(conditions, values)\n",
    "\n"
   ]
  },
  {
   "cell_type": "code",
   "execution_count": 223,
   "metadata": {},
   "outputs": [
    {
     "data": {
      "text/html": [
       "<div>\n",
       "<style scoped>\n",
       "    .dataframe tbody tr th:only-of-type {\n",
       "        vertical-align: middle;\n",
       "    }\n",
       "\n",
       "    .dataframe tbody tr th {\n",
       "        vertical-align: top;\n",
       "    }\n",
       "\n",
       "    .dataframe thead th {\n",
       "        text-align: right;\n",
       "    }\n",
       "</style>\n",
       "<table border=\"1\" class=\"dataframe\">\n",
       "  <thead>\n",
       "    <tr style=\"text-align: right;\">\n",
       "      <th></th>\n",
       "      <th>Sucrose_Concentration</th>\n",
       "      <th>Refractive_Index</th>\n",
       "      <th>Fiber_Sensing_Region</th>\n",
       "      <th>Chitosan_Weight</th>\n",
       "      <th>LED_Color_Blue</th>\n",
       "      <th>LED_Color_Red</th>\n",
       "      <th>LED_Color</th>\n",
       "    </tr>\n",
       "  </thead>\n",
       "  <tbody>\n",
       "    <tr>\n",
       "      <td>0</td>\n",
       "      <td>20.0</td>\n",
       "      <td>1.37</td>\n",
       "      <td>1.0</td>\n",
       "      <td>2.0</td>\n",
       "      <td>0.0</td>\n",
       "      <td>0.0</td>\n",
       "      <td>Orange</td>\n",
       "    </tr>\n",
       "    <tr>\n",
       "      <td>1</td>\n",
       "      <td>35.0</td>\n",
       "      <td>1.40</td>\n",
       "      <td>1.0</td>\n",
       "      <td>2.0</td>\n",
       "      <td>0.0</td>\n",
       "      <td>0.0</td>\n",
       "      <td>Orange</td>\n",
       "    </tr>\n",
       "    <tr>\n",
       "      <td>2</td>\n",
       "      <td>20.0</td>\n",
       "      <td>1.37</td>\n",
       "      <td>1.0</td>\n",
       "      <td>1.0</td>\n",
       "      <td>0.0</td>\n",
       "      <td>1.0</td>\n",
       "      <td>Red</td>\n",
       "    </tr>\n",
       "    <tr>\n",
       "      <td>3</td>\n",
       "      <td>25.0</td>\n",
       "      <td>1.38</td>\n",
       "      <td>1.0</td>\n",
       "      <td>2.0</td>\n",
       "      <td>1.0</td>\n",
       "      <td>0.0</td>\n",
       "      <td>Blue</td>\n",
       "    </tr>\n",
       "    <tr>\n",
       "      <td>4</td>\n",
       "      <td>30.0</td>\n",
       "      <td>1.39</td>\n",
       "      <td>1.0</td>\n",
       "      <td>1.0</td>\n",
       "      <td>1.0</td>\n",
       "      <td>0.0</td>\n",
       "      <td>Blue</td>\n",
       "    </tr>\n",
       "  </tbody>\n",
       "</table>\n",
       "</div>"
      ],
      "text/plain": [
       "   Sucrose_Concentration  Refractive_Index  Fiber_Sensing_Region  \\\n",
       "0                   20.0              1.37                   1.0   \n",
       "1                   35.0              1.40                   1.0   \n",
       "2                   20.0              1.37                   1.0   \n",
       "3                   25.0              1.38                   1.0   \n",
       "4                   30.0              1.39                   1.0   \n",
       "\n",
       "   Chitosan_Weight  LED_Color_Blue  LED_Color_Red LED_Color  \n",
       "0              2.0             0.0            0.0    Orange  \n",
       "1              2.0             0.0            0.0    Orange  \n",
       "2              1.0             0.0            1.0       Red  \n",
       "3              2.0             1.0            0.0      Blue  \n",
       "4              1.0             1.0            0.0      Blue  "
      ]
     },
     "execution_count": 223,
     "metadata": {},
     "output_type": "execute_result"
    }
   ],
   "source": [
    "X_test.head()"
   ]
  },
  {
   "cell_type": "code",
   "execution_count": 224,
   "metadata": {},
   "outputs": [],
   "source": [
    "X_train.drop(['LED_Color_Blue','LED_Color_Red'],axis=1,inplace=True)\n",
    "X_test.drop(['LED_Color_Blue','LED_Color_Red'],axis=1,inplace=True)"
   ]
  },
  {
   "cell_type": "code",
   "execution_count": 225,
   "metadata": {},
   "outputs": [
    {
     "data": {
      "text/html": [
       "<div>\n",
       "<style scoped>\n",
       "    .dataframe tbody tr th:only-of-type {\n",
       "        vertical-align: middle;\n",
       "    }\n",
       "\n",
       "    .dataframe tbody tr th {\n",
       "        vertical-align: top;\n",
       "    }\n",
       "\n",
       "    .dataframe thead th {\n",
       "        text-align: right;\n",
       "    }\n",
       "</style>\n",
       "<table border=\"1\" class=\"dataframe\">\n",
       "  <thead>\n",
       "    <tr style=\"text-align: right;\">\n",
       "      <th></th>\n",
       "      <th>Sucrose_Concentration</th>\n",
       "      <th>Refractive_Index</th>\n",
       "      <th>Fiber_Sensing_Region</th>\n",
       "      <th>Chitosan_Weight</th>\n",
       "      <th>LED_Color</th>\n",
       "    </tr>\n",
       "  </thead>\n",
       "  <tbody>\n",
       "    <tr>\n",
       "      <td>0</td>\n",
       "      <td>10.0</td>\n",
       "      <td>1.35</td>\n",
       "      <td>1.0</td>\n",
       "      <td>2.0</td>\n",
       "      <td>Orange</td>\n",
       "    </tr>\n",
       "    <tr>\n",
       "      <td>1</td>\n",
       "      <td>10.0</td>\n",
       "      <td>1.35</td>\n",
       "      <td>1.0</td>\n",
       "      <td>1.0</td>\n",
       "      <td>Orange</td>\n",
       "    </tr>\n",
       "    <tr>\n",
       "      <td>2</td>\n",
       "      <td>25.0</td>\n",
       "      <td>1.38</td>\n",
       "      <td>1.0</td>\n",
       "      <td>1.0</td>\n",
       "      <td>Orange</td>\n",
       "    </tr>\n",
       "    <tr>\n",
       "      <td>3</td>\n",
       "      <td>20.0</td>\n",
       "      <td>1.37</td>\n",
       "      <td>2.5</td>\n",
       "      <td>2.0</td>\n",
       "      <td>Blue</td>\n",
       "    </tr>\n",
       "    <tr>\n",
       "      <td>4</td>\n",
       "      <td>30.0</td>\n",
       "      <td>1.39</td>\n",
       "      <td>2.5</td>\n",
       "      <td>1.0</td>\n",
       "      <td>Orange</td>\n",
       "    </tr>\n",
       "  </tbody>\n",
       "</table>\n",
       "</div>"
      ],
      "text/plain": [
       "   Sucrose_Concentration  Refractive_Index  Fiber_Sensing_Region  \\\n",
       "0                   10.0              1.35                   1.0   \n",
       "1                   10.0              1.35                   1.0   \n",
       "2                   25.0              1.38                   1.0   \n",
       "3                   20.0              1.37                   2.5   \n",
       "4                   30.0              1.39                   2.5   \n",
       "\n",
       "   Chitosan_Weight LED_Color  \n",
       "0              2.0    Orange  \n",
       "1              1.0    Orange  \n",
       "2              1.0    Orange  \n",
       "3              2.0      Blue  \n",
       "4              1.0    Orange  "
      ]
     },
     "execution_count": 225,
     "metadata": {},
     "output_type": "execute_result"
    }
   ],
   "source": [
    "X_train.head()"
   ]
  },
  {
   "cell_type": "code",
   "execution_count": 226,
   "metadata": {},
   "outputs": [
    {
     "data": {
      "text/html": [
       "<div>\n",
       "<style scoped>\n",
       "    .dataframe tbody tr th:only-of-type {\n",
       "        vertical-align: middle;\n",
       "    }\n",
       "\n",
       "    .dataframe tbody tr th {\n",
       "        vertical-align: top;\n",
       "    }\n",
       "\n",
       "    .dataframe thead th {\n",
       "        text-align: right;\n",
       "    }\n",
       "</style>\n",
       "<table border=\"1\" class=\"dataframe\">\n",
       "  <thead>\n",
       "    <tr style=\"text-align: right;\">\n",
       "      <th></th>\n",
       "      <th>Sucrose_Concentration</th>\n",
       "      <th>Refractive_Index</th>\n",
       "      <th>Fiber_Sensing_Region</th>\n",
       "      <th>Chitosan_Weight</th>\n",
       "      <th>LED_Color</th>\n",
       "    </tr>\n",
       "  </thead>\n",
       "  <tbody>\n",
       "    <tr>\n",
       "      <td>0</td>\n",
       "      <td>20.0</td>\n",
       "      <td>1.37</td>\n",
       "      <td>1.0</td>\n",
       "      <td>2.0</td>\n",
       "      <td>Orange</td>\n",
       "    </tr>\n",
       "    <tr>\n",
       "      <td>1</td>\n",
       "      <td>35.0</td>\n",
       "      <td>1.40</td>\n",
       "      <td>1.0</td>\n",
       "      <td>2.0</td>\n",
       "      <td>Orange</td>\n",
       "    </tr>\n",
       "    <tr>\n",
       "      <td>2</td>\n",
       "      <td>20.0</td>\n",
       "      <td>1.37</td>\n",
       "      <td>1.0</td>\n",
       "      <td>1.0</td>\n",
       "      <td>Red</td>\n",
       "    </tr>\n",
       "    <tr>\n",
       "      <td>3</td>\n",
       "      <td>25.0</td>\n",
       "      <td>1.38</td>\n",
       "      <td>1.0</td>\n",
       "      <td>2.0</td>\n",
       "      <td>Blue</td>\n",
       "    </tr>\n",
       "    <tr>\n",
       "      <td>4</td>\n",
       "      <td>30.0</td>\n",
       "      <td>1.39</td>\n",
       "      <td>1.0</td>\n",
       "      <td>1.0</td>\n",
       "      <td>Blue</td>\n",
       "    </tr>\n",
       "  </tbody>\n",
       "</table>\n",
       "</div>"
      ],
      "text/plain": [
       "   Sucrose_Concentration  Refractive_Index  Fiber_Sensing_Region  \\\n",
       "0                   20.0              1.37                   1.0   \n",
       "1                   35.0              1.40                   1.0   \n",
       "2                   20.0              1.37                   1.0   \n",
       "3                   25.0              1.38                   1.0   \n",
       "4                   30.0              1.39                   1.0   \n",
       "\n",
       "   Chitosan_Weight LED_Color  \n",
       "0              2.0    Orange  \n",
       "1              2.0    Orange  \n",
       "2              1.0       Red  \n",
       "3              2.0      Blue  \n",
       "4              1.0      Blue  "
      ]
     },
     "execution_count": 226,
     "metadata": {},
     "output_type": "execute_result"
    }
   ],
   "source": [
    "X_test.head()"
   ]
  },
  {
   "cell_type": "code",
   "execution_count": 227,
   "metadata": {},
   "outputs": [],
   "source": [
    "Y_Predicted_train = pd.DataFrame(y_pred_trn.values,columns=['Predicted_Output_Intensity'])\n",
    "Y_Actual_train = pd.DataFrame(y_train.values,columns=[\"Actual_Output_Intensity\"])\n",
    "Final_Comparison_train=pd.concat([X_train,Y_Actual_train,Y_Predicted_train],axis=1)"
   ]
  },
  {
   "cell_type": "code",
   "execution_count": 228,
   "metadata": {},
   "outputs": [
    {
     "data": {
      "text/html": [
       "<div>\n",
       "<style scoped>\n",
       "    .dataframe tbody tr th:only-of-type {\n",
       "        vertical-align: middle;\n",
       "    }\n",
       "\n",
       "    .dataframe tbody tr th {\n",
       "        vertical-align: top;\n",
       "    }\n",
       "\n",
       "    .dataframe thead th {\n",
       "        text-align: right;\n",
       "    }\n",
       "</style>\n",
       "<table border=\"1\" class=\"dataframe\">\n",
       "  <thead>\n",
       "    <tr style=\"text-align: right;\">\n",
       "      <th></th>\n",
       "      <th>Sucrose_Concentration</th>\n",
       "      <th>Refractive_Index</th>\n",
       "      <th>Fiber_Sensing_Region</th>\n",
       "      <th>Chitosan_Weight</th>\n",
       "      <th>LED_Color</th>\n",
       "      <th>Actual_Output_Intensity</th>\n",
       "      <th>Predicted_Output_Intensity</th>\n",
       "    </tr>\n",
       "  </thead>\n",
       "  <tbody>\n",
       "    <tr>\n",
       "      <td>0</td>\n",
       "      <td>10.0</td>\n",
       "      <td>1.35</td>\n",
       "      <td>1.0</td>\n",
       "      <td>2.0</td>\n",
       "      <td>Orange</td>\n",
       "      <td>149</td>\n",
       "      <td>148.900111</td>\n",
       "    </tr>\n",
       "    <tr>\n",
       "      <td>1</td>\n",
       "      <td>10.0</td>\n",
       "      <td>1.35</td>\n",
       "      <td>1.0</td>\n",
       "      <td>1.0</td>\n",
       "      <td>Orange</td>\n",
       "      <td>145</td>\n",
       "      <td>145.100157</td>\n",
       "    </tr>\n",
       "    <tr>\n",
       "      <td>2</td>\n",
       "      <td>25.0</td>\n",
       "      <td>1.38</td>\n",
       "      <td>1.0</td>\n",
       "      <td>1.0</td>\n",
       "      <td>Orange</td>\n",
       "      <td>139</td>\n",
       "      <td>138.972628</td>\n",
       "    </tr>\n",
       "    <tr>\n",
       "      <td>3</td>\n",
       "      <td>20.0</td>\n",
       "      <td>1.37</td>\n",
       "      <td>2.5</td>\n",
       "      <td>2.0</td>\n",
       "      <td>Blue</td>\n",
       "      <td>133</td>\n",
       "      <td>133.659652</td>\n",
       "    </tr>\n",
       "    <tr>\n",
       "      <td>4</td>\n",
       "      <td>30.0</td>\n",
       "      <td>1.39</td>\n",
       "      <td>2.5</td>\n",
       "      <td>1.0</td>\n",
       "      <td>Orange</td>\n",
       "      <td>126</td>\n",
       "      <td>125.899582</td>\n",
       "    </tr>\n",
       "  </tbody>\n",
       "</table>\n",
       "</div>"
      ],
      "text/plain": [
       "   Sucrose_Concentration  Refractive_Index  Fiber_Sensing_Region  \\\n",
       "0                   10.0              1.35                   1.0   \n",
       "1                   10.0              1.35                   1.0   \n",
       "2                   25.0              1.38                   1.0   \n",
       "3                   20.0              1.37                   2.5   \n",
       "4                   30.0              1.39                   2.5   \n",
       "\n",
       "   Chitosan_Weight LED_Color  Actual_Output_Intensity  \\\n",
       "0              2.0    Orange                      149   \n",
       "1              1.0    Orange                      145   \n",
       "2              1.0    Orange                      139   \n",
       "3              2.0      Blue                      133   \n",
       "4              1.0    Orange                      126   \n",
       "\n",
       "   Predicted_Output_Intensity  \n",
       "0                  148.900111  \n",
       "1                  145.100157  \n",
       "2                  138.972628  \n",
       "3                  133.659652  \n",
       "4                  125.899582  "
      ]
     },
     "execution_count": 228,
     "metadata": {},
     "output_type": "execute_result"
    }
   ],
   "source": [
    "Final_Comparison_train.head()"
   ]
  },
  {
   "cell_type": "code",
   "execution_count": 229,
   "metadata": {},
   "outputs": [],
   "source": [
    "Y_Predicted_test = pd.DataFrame(y_pred.values,columns=['Predicted_Output_Intensity'])\n",
    "Y_Actual_test = pd.DataFrame(y_test.values,columns=[\"Actual_Output_Intensity\"])\n",
    "Final_Comparison_test=pd.concat([X_test,Y_Actual_test,Y_Predicted_test],axis=1)"
   ]
  },
  {
   "cell_type": "code",
   "execution_count": 230,
   "metadata": {},
   "outputs": [
    {
     "data": {
      "text/html": [
       "<div>\n",
       "<style scoped>\n",
       "    .dataframe tbody tr th:only-of-type {\n",
       "        vertical-align: middle;\n",
       "    }\n",
       "\n",
       "    .dataframe tbody tr th {\n",
       "        vertical-align: top;\n",
       "    }\n",
       "\n",
       "    .dataframe thead th {\n",
       "        text-align: right;\n",
       "    }\n",
       "</style>\n",
       "<table border=\"1\" class=\"dataframe\">\n",
       "  <thead>\n",
       "    <tr style=\"text-align: right;\">\n",
       "      <th></th>\n",
       "      <th>Sucrose_Concentration</th>\n",
       "      <th>Refractive_Index</th>\n",
       "      <th>Fiber_Sensing_Region</th>\n",
       "      <th>Chitosan_Weight</th>\n",
       "      <th>LED_Color</th>\n",
       "      <th>Actual_Output_Intensity</th>\n",
       "      <th>Predicted_Output_Intensity</th>\n",
       "    </tr>\n",
       "  </thead>\n",
       "  <tbody>\n",
       "    <tr>\n",
       "      <td>0</td>\n",
       "      <td>20.0</td>\n",
       "      <td>1.37</td>\n",
       "      <td>1.0</td>\n",
       "      <td>2.0</td>\n",
       "      <td>Orange</td>\n",
       "      <td>142</td>\n",
       "      <td>141.951881</td>\n",
       "    </tr>\n",
       "    <tr>\n",
       "      <td>1</td>\n",
       "      <td>35.0</td>\n",
       "      <td>1.40</td>\n",
       "      <td>1.0</td>\n",
       "      <td>2.0</td>\n",
       "      <td>Orange</td>\n",
       "      <td>133</td>\n",
       "      <td>132.630361</td>\n",
       "    </tr>\n",
       "    <tr>\n",
       "      <td>2</td>\n",
       "      <td>20.0</td>\n",
       "      <td>1.37</td>\n",
       "      <td>1.0</td>\n",
       "      <td>1.0</td>\n",
       "      <td>Red</td>\n",
       "      <td>134</td>\n",
       "      <td>133.954328</td>\n",
       "    </tr>\n",
       "    <tr>\n",
       "      <td>3</td>\n",
       "      <td>25.0</td>\n",
       "      <td>1.38</td>\n",
       "      <td>1.0</td>\n",
       "      <td>2.0</td>\n",
       "      <td>Blue</td>\n",
       "      <td>143</td>\n",
       "      <td>143.496077</td>\n",
       "    </tr>\n",
       "    <tr>\n",
       "      <td>4</td>\n",
       "      <td>30.0</td>\n",
       "      <td>1.39</td>\n",
       "      <td>1.0</td>\n",
       "      <td>1.0</td>\n",
       "      <td>Blue</td>\n",
       "      <td>141</td>\n",
       "      <td>141.570407</td>\n",
       "    </tr>\n",
       "    <tr>\n",
       "      <td>5</td>\n",
       "      <td>20.0</td>\n",
       "      <td>1.37</td>\n",
       "      <td>2.5</td>\n",
       "      <td>1.0</td>\n",
       "      <td>Red</td>\n",
       "      <td>156</td>\n",
       "      <td>156.014200</td>\n",
       "    </tr>\n",
       "    <tr>\n",
       "      <td>6</td>\n",
       "      <td>15.0</td>\n",
       "      <td>1.36</td>\n",
       "      <td>2.5</td>\n",
       "      <td>1.0</td>\n",
       "      <td>Orange</td>\n",
       "      <td>135</td>\n",
       "      <td>135.471333</td>\n",
       "    </tr>\n",
       "    <tr>\n",
       "      <td>7</td>\n",
       "      <td>0.0</td>\n",
       "      <td>1.33</td>\n",
       "      <td>1.0</td>\n",
       "      <td>1.0</td>\n",
       "      <td>Orange</td>\n",
       "      <td>151</td>\n",
       "      <td>149.117455</td>\n",
       "    </tr>\n",
       "    <tr>\n",
       "      <td>8</td>\n",
       "      <td>0.0</td>\n",
       "      <td>1.33</td>\n",
       "      <td>1.0</td>\n",
       "      <td>2.0</td>\n",
       "      <td>Orange</td>\n",
       "      <td>153</td>\n",
       "      <td>153.711175</td>\n",
       "    </tr>\n",
       "    <tr>\n",
       "      <td>9</td>\n",
       "      <td>35.0</td>\n",
       "      <td>1.40</td>\n",
       "      <td>2.5</td>\n",
       "      <td>2.0</td>\n",
       "      <td>Orange</td>\n",
       "      <td>137</td>\n",
       "      <td>136.215302</td>\n",
       "    </tr>\n",
       "  </tbody>\n",
       "</table>\n",
       "</div>"
      ],
      "text/plain": [
       "   Sucrose_Concentration  Refractive_Index  Fiber_Sensing_Region  \\\n",
       "0                   20.0              1.37                   1.0   \n",
       "1                   35.0              1.40                   1.0   \n",
       "2                   20.0              1.37                   1.0   \n",
       "3                   25.0              1.38                   1.0   \n",
       "4                   30.0              1.39                   1.0   \n",
       "5                   20.0              1.37                   2.5   \n",
       "6                   15.0              1.36                   2.5   \n",
       "7                    0.0              1.33                   1.0   \n",
       "8                    0.0              1.33                   1.0   \n",
       "9                   35.0              1.40                   2.5   \n",
       "\n",
       "   Chitosan_Weight LED_Color  Actual_Output_Intensity  \\\n",
       "0              2.0    Orange                      142   \n",
       "1              2.0    Orange                      133   \n",
       "2              1.0       Red                      134   \n",
       "3              2.0      Blue                      143   \n",
       "4              1.0      Blue                      141   \n",
       "5              1.0       Red                      156   \n",
       "6              1.0    Orange                      135   \n",
       "7              1.0    Orange                      151   \n",
       "8              2.0    Orange                      153   \n",
       "9              2.0    Orange                      137   \n",
       "\n",
       "   Predicted_Output_Intensity  \n",
       "0                  141.951881  \n",
       "1                  132.630361  \n",
       "2                  133.954328  \n",
       "3                  143.496077  \n",
       "4                  141.570407  \n",
       "5                  156.014200  \n",
       "6                  135.471333  \n",
       "7                  149.117455  \n",
       "8                  153.711175  \n",
       "9                  136.215302  "
      ]
     },
     "execution_count": 230,
     "metadata": {},
     "output_type": "execute_result"
    }
   ],
   "source": [
    "Final_Comparison_test.head(10)"
   ]
  },
  {
   "cell_type": "code",
   "execution_count": 231,
   "metadata": {},
   "outputs": [
    {
     "data": {
      "text/plain": [
       "((24, 7), (96, 7))"
      ]
     },
     "execution_count": 231,
     "metadata": {},
     "output_type": "execute_result"
    }
   ],
   "source": [
    "Final_Comparison_test.shape,Final_Comparison_train.shape"
   ]
  },
  {
   "cell_type": "code",
   "execution_count": 232,
   "metadata": {},
   "outputs": [],
   "source": [
    "Final_Comparison = pd.concat([Final_Comparison_train,Final_Comparison_test],axis=0)"
   ]
  },
  {
   "cell_type": "code",
   "execution_count": 233,
   "metadata": {},
   "outputs": [
    {
     "data": {
      "text/plain": [
       "(120, 7)"
      ]
     },
     "execution_count": 233,
     "metadata": {},
     "output_type": "execute_result"
    }
   ],
   "source": [
    "Final_Comparison.shape"
   ]
  },
  {
   "cell_type": "code",
   "execution_count": 234,
   "metadata": {},
   "outputs": [
    {
     "data": {
      "text/html": [
       "<div>\n",
       "<style scoped>\n",
       "    .dataframe tbody tr th:only-of-type {\n",
       "        vertical-align: middle;\n",
       "    }\n",
       "\n",
       "    .dataframe tbody tr th {\n",
       "        vertical-align: top;\n",
       "    }\n",
       "\n",
       "    .dataframe thead th {\n",
       "        text-align: right;\n",
       "    }\n",
       "</style>\n",
       "<table border=\"1\" class=\"dataframe\">\n",
       "  <thead>\n",
       "    <tr style=\"text-align: right;\">\n",
       "      <th></th>\n",
       "      <th>Sucrose_Concentration</th>\n",
       "      <th>Refractive_Index</th>\n",
       "      <th>Fiber_Sensing_Region</th>\n",
       "      <th>Chitosan_Weight</th>\n",
       "      <th>LED_Color</th>\n",
       "      <th>Actual_Output_Intensity</th>\n",
       "      <th>Predicted_Output_Intensity</th>\n",
       "    </tr>\n",
       "  </thead>\n",
       "  <tbody>\n",
       "    <tr>\n",
       "      <td>0</td>\n",
       "      <td>10.0</td>\n",
       "      <td>1.35</td>\n",
       "      <td>1.0</td>\n",
       "      <td>2.0</td>\n",
       "      <td>Orange</td>\n",
       "      <td>149</td>\n",
       "      <td>148.900111</td>\n",
       "    </tr>\n",
       "    <tr>\n",
       "      <td>1</td>\n",
       "      <td>10.0</td>\n",
       "      <td>1.35</td>\n",
       "      <td>1.0</td>\n",
       "      <td>1.0</td>\n",
       "      <td>Orange</td>\n",
       "      <td>145</td>\n",
       "      <td>145.100157</td>\n",
       "    </tr>\n",
       "    <tr>\n",
       "      <td>2</td>\n",
       "      <td>25.0</td>\n",
       "      <td>1.38</td>\n",
       "      <td>1.0</td>\n",
       "      <td>1.0</td>\n",
       "      <td>Orange</td>\n",
       "      <td>139</td>\n",
       "      <td>138.972628</td>\n",
       "    </tr>\n",
       "    <tr>\n",
       "      <td>3</td>\n",
       "      <td>20.0</td>\n",
       "      <td>1.37</td>\n",
       "      <td>2.5</td>\n",
       "      <td>2.0</td>\n",
       "      <td>Blue</td>\n",
       "      <td>133</td>\n",
       "      <td>133.659652</td>\n",
       "    </tr>\n",
       "    <tr>\n",
       "      <td>4</td>\n",
       "      <td>30.0</td>\n",
       "      <td>1.39</td>\n",
       "      <td>2.5</td>\n",
       "      <td>1.0</td>\n",
       "      <td>Orange</td>\n",
       "      <td>126</td>\n",
       "      <td>125.899582</td>\n",
       "    </tr>\n",
       "  </tbody>\n",
       "</table>\n",
       "</div>"
      ],
      "text/plain": [
       "   Sucrose_Concentration  Refractive_Index  Fiber_Sensing_Region  \\\n",
       "0                   10.0              1.35                   1.0   \n",
       "1                   10.0              1.35                   1.0   \n",
       "2                   25.0              1.38                   1.0   \n",
       "3                   20.0              1.37                   2.5   \n",
       "4                   30.0              1.39                   2.5   \n",
       "\n",
       "   Chitosan_Weight LED_Color  Actual_Output_Intensity  \\\n",
       "0              2.0    Orange                      149   \n",
       "1              1.0    Orange                      145   \n",
       "2              1.0    Orange                      139   \n",
       "3              2.0      Blue                      133   \n",
       "4              1.0    Orange                      126   \n",
       "\n",
       "   Predicted_Output_Intensity  \n",
       "0                  148.900111  \n",
       "1                  145.100157  \n",
       "2                  138.972628  \n",
       "3                  133.659652  \n",
       "4                  125.899582  "
      ]
     },
     "execution_count": 234,
     "metadata": {},
     "output_type": "execute_result"
    }
   ],
   "source": [
    "Final_Comparison.head()"
   ]
  },
  {
   "cell_type": "code",
   "execution_count": 235,
   "metadata": {},
   "outputs": [
    {
     "data": {
      "text/plain": [
       "Sucrose_Concentration              20\n",
       "Refractive_Index                 1.37\n",
       "Fiber_Sensing_Region                1\n",
       "Chitosan_Weight                     2\n",
       "LED_Color                      Orange\n",
       "Actual_Output_Intensity           142\n",
       "Predicted_Output_Intensity    141.952\n",
       "Name: 0, dtype: object"
      ]
     },
     "execution_count": 235,
     "metadata": {},
     "output_type": "execute_result"
    }
   ],
   "source": [
    "Final_Comparison.iloc[96]"
   ]
  },
  {
   "cell_type": "code",
   "execution_count": 236,
   "metadata": {},
   "outputs": [],
   "source": [
    "Final_Comparison['Error_Percentage']=(Final_Comparison['Actual_Output_Intensity'] - Final_Comparison['Predicted_Output_Intensity']) * 100 /Final_Comparison['Actual_Output_Intensity']"
   ]
  },
  {
   "cell_type": "code",
   "execution_count": 237,
   "metadata": {},
   "outputs": [
    {
     "data": {
      "text/html": [
       "<div>\n",
       "<style scoped>\n",
       "    .dataframe tbody tr th:only-of-type {\n",
       "        vertical-align: middle;\n",
       "    }\n",
       "\n",
       "    .dataframe tbody tr th {\n",
       "        vertical-align: top;\n",
       "    }\n",
       "\n",
       "    .dataframe thead th {\n",
       "        text-align: right;\n",
       "    }\n",
       "</style>\n",
       "<table border=\"1\" class=\"dataframe\">\n",
       "  <thead>\n",
       "    <tr style=\"text-align: right;\">\n",
       "      <th></th>\n",
       "      <th>Sucrose_Concentration</th>\n",
       "      <th>Refractive_Index</th>\n",
       "      <th>Fiber_Sensing_Region</th>\n",
       "      <th>Chitosan_Weight</th>\n",
       "      <th>LED_Color</th>\n",
       "      <th>Actual_Output_Intensity</th>\n",
       "      <th>Predicted_Output_Intensity</th>\n",
       "      <th>Error_Percentage</th>\n",
       "    </tr>\n",
       "  </thead>\n",
       "  <tbody>\n",
       "    <tr>\n",
       "      <td>0</td>\n",
       "      <td>10.0</td>\n",
       "      <td>1.35</td>\n",
       "      <td>1.0</td>\n",
       "      <td>2.0</td>\n",
       "      <td>Orange</td>\n",
       "      <td>149</td>\n",
       "      <td>148.900111</td>\n",
       "      <td>0.067040</td>\n",
       "    </tr>\n",
       "    <tr>\n",
       "      <td>1</td>\n",
       "      <td>10.0</td>\n",
       "      <td>1.35</td>\n",
       "      <td>1.0</td>\n",
       "      <td>1.0</td>\n",
       "      <td>Orange</td>\n",
       "      <td>145</td>\n",
       "      <td>145.100157</td>\n",
       "      <td>-0.069074</td>\n",
       "    </tr>\n",
       "    <tr>\n",
       "      <td>2</td>\n",
       "      <td>25.0</td>\n",
       "      <td>1.38</td>\n",
       "      <td>1.0</td>\n",
       "      <td>1.0</td>\n",
       "      <td>Orange</td>\n",
       "      <td>139</td>\n",
       "      <td>138.972628</td>\n",
       "      <td>0.019692</td>\n",
       "    </tr>\n",
       "    <tr>\n",
       "      <td>3</td>\n",
       "      <td>20.0</td>\n",
       "      <td>1.37</td>\n",
       "      <td>2.5</td>\n",
       "      <td>2.0</td>\n",
       "      <td>Blue</td>\n",
       "      <td>133</td>\n",
       "      <td>133.659652</td>\n",
       "      <td>-0.495979</td>\n",
       "    </tr>\n",
       "    <tr>\n",
       "      <td>4</td>\n",
       "      <td>30.0</td>\n",
       "      <td>1.39</td>\n",
       "      <td>2.5</td>\n",
       "      <td>1.0</td>\n",
       "      <td>Orange</td>\n",
       "      <td>126</td>\n",
       "      <td>125.899582</td>\n",
       "      <td>0.079697</td>\n",
       "    </tr>\n",
       "  </tbody>\n",
       "</table>\n",
       "</div>"
      ],
      "text/plain": [
       "   Sucrose_Concentration  Refractive_Index  Fiber_Sensing_Region  \\\n",
       "0                   10.0              1.35                   1.0   \n",
       "1                   10.0              1.35                   1.0   \n",
       "2                   25.0              1.38                   1.0   \n",
       "3                   20.0              1.37                   2.5   \n",
       "4                   30.0              1.39                   2.5   \n",
       "\n",
       "   Chitosan_Weight LED_Color  Actual_Output_Intensity  \\\n",
       "0              2.0    Orange                      149   \n",
       "1              1.0    Orange                      145   \n",
       "2              1.0    Orange                      139   \n",
       "3              2.0      Blue                      133   \n",
       "4              1.0    Orange                      126   \n",
       "\n",
       "   Predicted_Output_Intensity  Error_Percentage  \n",
       "0                  148.900111          0.067040  \n",
       "1                  145.100157         -0.069074  \n",
       "2                  138.972628          0.019692  \n",
       "3                  133.659652         -0.495979  \n",
       "4                  125.899582          0.079697  "
      ]
     },
     "execution_count": 237,
     "metadata": {},
     "output_type": "execute_result"
    }
   ],
   "source": [
    "Final_Comparison.head()"
   ]
  },
  {
   "cell_type": "code",
   "execution_count": 238,
   "metadata": {},
   "outputs": [
    {
     "data": {
      "image/png": "[encoded data removed]",
      "text/plain": [
       "<Figure size 720x720 with 1 Axes>"
      ]
     },
     "metadata": {},
     "output_type": "display_data"
    }
   ],
   "source": [
    "plt.figure(figsize=(10,10))\n",
    "plt.scatter(Final_Comparison['Actual_Output_Intensity'],Final_Comparison['Predicted_Output_Intensity'], c='crimson')\n",
    "\n",
    "p1 = max(max(Final_Comparison['Predicted_Output_Intensity']), max(Final_Comparison['Actual_Output_Intensity']))\n",
    "p2 = min(min(Final_Comparison['Predicted_Output_Intensity']), min(Final_Comparison['Actual_Output_Intensity']))\n",
    "plt.plot([p1, p2], [p1, p2], 'b-')\n",
    "plt.xlabel('True Values', fontsize=15)\n",
    "plt.ylabel('Predictions', fontsize=15)\n",
    "plt.axis('equal')\n",
    "plt.show()"
   ]
  },
  {
   "cell_type": "code",
   "execution_count": 239,
   "metadata": {},
   "outputs": [],
   "source": [
    "Final_Comparison.to_csv('SVM_RI.csv',index=False)"
   ]
  }
 ],
 "metadata": {
  "kernelspec": {
   "display_name": "Python 3",
   "language": "python",
   "name": "python3"
  },
  "language_info": {
   "codemirror_mode": {
    "name": "ipython",
    "version": 3
   },
   "file_extension": ".py",
   "mimetype": "text/x-python",
   "name": "python",
   "nbconvert_exporter": "python",
   "pygments_lexer": "ipython3",
   "version": "3.7.4"
  }
 },
 "nbformat": 4,
 "nbformat_minor": 2
}
